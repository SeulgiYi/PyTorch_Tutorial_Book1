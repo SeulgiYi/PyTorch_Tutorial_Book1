{
 "cells": [
  {
   "cell_type": "code",
   "execution_count": 1,
   "metadata": {},
   "outputs": [],
   "source": [
    "# Example 8-3: Deep Q Network 구현\n",
    "import torch\n",
    "from torch import nn\n",
    "from torch import optim\n",
    "from torch.nn import functional as F\n",
    "import numpy as np\n",
    "\n",
    "### Reference: http://www.modulabs.co.kr/RL4RWS/18828\n",
    "import gym\n",
    "from gym.envs.registration import register\n",
    "register(\n",
    "    id='FrozenLake-v3',\n",
    "    entry_point='gym.envs.toy_text:FrozenLakeEnv',\n",
    "    kwargs={\n",
    "        'map_name': '4x4',\n",
    "        'is_slippery': False\n",
    "    }\n",
    ")\n",
    "env = gym.make(\"FrozenLake-v3\")"
   ]
  },
  {
   "cell_type": "code",
   "execution_count": 2,
   "metadata": {},
   "outputs": [],
   "source": [
    "class Net(nn.Module):\n",
    "    def __init__(self):\n",
    "        super(Net,self).__init__()\n",
    "        self.fc1 = nn.Linear(16,64)\n",
    "        self.fc2 = nn.Linear(64,64)\n",
    "        self.fc3 = nn.Linear(64,96)\n",
    "        self.fc4 = nn.Linear(96,96)\n",
    "        self.fc5 = nn.Linear(96,64)\n",
    "        self.fc6 = nn.Linear(64,64)\n",
    "        self.fc7 = nn.Linear(64,4)\n",
    "        \n",
    "    def forward(self, x):\n",
    "        x = F.relu(self.fc1(x))\n",
    "        x = F.relu(self.fc2(x))\n",
    "        x = F.relu(self.fc3(x))\n",
    "        x = F.relu(self.fc4(x))\n",
    "        x = F.relu(self.fc5(x))\n",
    "        x = F.relu(self.fc6(x))\n",
    "        x = self.fc7(x)\n",
    "        return x\n",
    "    \n",
    "model = Net()      \n",
    "    "
   ]
  },
  {
   "cell_type": "code",
   "execution_count": 3,
   "metadata": {},
   "outputs": [],
   "source": [
    "def onehot2tensor(state):\n",
    "    tmp = np.zeros(16)\n",
    "    tmp[state] = 1\n",
    "    vector = np.array(tmp, dtype='float32')\n",
    "    tensor = torch.from_numpy(vector).float()\n",
    "    return tensor\n",
    "\n",
    "def applymodel(tensor):\n",
    "    output_tensor = model(tensor)\n",
    "    output_vector = output_tensor.data.numpy()\n",
    "    return output_tensor, output_vector"
   ]
  },
  {
   "cell_type": "code",
   "execution_count": 14,
   "metadata": {},
   "outputs": [
    {
     "name": "stdout",
     "output_type": "stream",
     "text": [
      "1000 0.0010226326660500717 18.0\n",
      "2000 9.340774026115895e-05 34.0\n",
      "3000 3.0625657686494244e-06 49.0\n",
      "4000 2.1685012717391565e-26 64.0\n",
      "5000 2.7041020714003942e-21 75.0\n",
      "6000 0.00010881005086811331 86.0\n",
      "7000 0.0003568643608056905 102.0\n",
      "8000 9.863590718747606e-06 117.0\n",
      "9000 0.2696659995341668 142.0\n",
      "10000 9.814388510285925e-08 154.0\n"
     ]
    }
   ],
   "source": [
    "criterion = nn.MSELoss()\n",
    "optimizer = optim.Adam(model.parameters(),lr=0.01)\n",
    "\n",
    "n_episode = 10000\n",
    "dr = 0.9  ## discount rate\n",
    "er = 0.1  ## exploration & exploitation rate\n",
    "\n",
    "total_reward = 0.0\n",
    "for i_episode in range(n_episode):\n",
    "    observation = env.reset()\n",
    "    episode_reward = 0.0\n",
    "    done = None\n",
    "    total_loss = 0.0\n",
    "    for t in range(100):\n",
    "        current_state = observation\n",
    "        optimizer.zero_grad()\n",
    "        current_tensor = onehot2tensor(current_state)\n",
    "        current_output_tensor, current_output_vector = applymodel(current_tensor)\n",
    "        \n",
    "        if np.random.rand() < er:\n",
    "            action = env.action_space.sample()\n",
    "        else:\n",
    "            action = np.argmax(current_output_vector) \n",
    "        \n",
    "        observation, reward, done, info = env.step(action)\n",
    "        observation_tensor = onehot2tensor(observation)\n",
    "        observation_output_tensor, observation_output_vector = applymodel(observation_tensor)\n",
    "        \n",
    "        q = reward + dr*np.max(observation_output_vector)\n",
    "        q_vector = np.copy(current_output_vector)\n",
    "        q_vector[action] = q\n",
    "        q_variable = torch.Tensor(q_vector)\n",
    "        \n",
    "        loss = criterion(current_output_tensor, q_variable)\n",
    "        loss.backward()\n",
    "        optimizer.step()\n",
    "        total_loss += loss.data.item()\n",
    "        if done:\n",
    "            episode_reward += reward\n",
    "    \n",
    "    total_reward += episode_reward\n",
    "    if (i_episode+1)%(n_episode/10) == 0:\n",
    "        print(i_episode+1, total_loss, total_reward)\n"
   ]
  },
  {
   "cell_type": "code",
   "execution_count": 15,
   "metadata": {},
   "outputs": [
    {
     "name": "stdout",
     "output_type": "stream",
     "text": [
      "Total reward: 154.0\n",
      "Average reward: 0.0154\n"
     ]
    }
   ],
   "source": [
    "print(\"Total reward:\", total_reward)\n",
    "print(\"Average reward:\", total_reward/n_episode)"
   ]
  },
  {
   "cell_type": "code",
   "execution_count": 17,
   "metadata": {},
   "outputs": [
    {
     "name": "stdout",
     "output_type": "stream",
     "text": [
      "[-4.2458702e-04  8.5975182e-05  1.1103050e-04 -5.5245910e-06]\n",
      "Total reward: 0.0\n",
      "Average reward: 0.0\n"
     ]
    }
   ],
   "source": [
    "## play using learned Q values\n",
    "n_episode = 1000\n",
    "total_reward = 0.0\n",
    "for i_episode in range(n_episode):\n",
    "    observation = env.reset()\n",
    "    episode_reward = 0.0\n",
    "    for t in range(100):\n",
    "        current_state = observation    \n",
    "        current_tensor = onehot2tensor(current_state)\n",
    "        current_output_tensor, current_output_vector = applymodel(current_tensor)\n",
    "        action = np.argmax(current_output_vector) \n",
    "        observation, reward, done, info = env.step(action)\n",
    "        if done:\n",
    "            episode_reward += reward\n",
    "    total_reward += episode_reward\n",
    "    #print(i_episode, total_reward)\n",
    "\n",
    "print(current_output_vector)\n",
    "print(\"Total reward:\", total_reward)\n",
    "print(\"Average reward:\", total_reward/n_episode)"
   ]
  },
  {
   "cell_type": "code",
   "execution_count": null,
   "metadata": {},
   "outputs": [],
   "source": []
  }
 ],
 "metadata": {
  "kernelspec": {
   "display_name": "Python [conda env:ptlesson] *",
   "language": "python",
   "name": "conda-env-ptlesson-py"
  },
  "language_info": {
   "codemirror_mode": {
    "name": "ipython",
    "version": 3
   },
   "file_extension": ".py",
   "mimetype": "text/x-python",
   "name": "python",
   "nbconvert_exporter": "python",
   "pygments_lexer": "ipython3",
   "version": "3.7.4"
  }
 },
 "nbformat": 4,
 "nbformat_minor": 4
}
