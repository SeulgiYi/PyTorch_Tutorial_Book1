{
 "cells": [
  {
   "cell_type": "code",
   "execution_count": 7,
   "metadata": {},
   "outputs": [
    {
     "data": {
      "text/plain": [
       "array([[0., 0., 0., 0.],\n",
       "       [0., 0., 0., 0.],\n",
       "       [0., 0., 0., 0.],\n",
       "       [0., 0., 0., 0.],\n",
       "       [0., 0., 0., 0.],\n",
       "       [0., 0., 0., 0.],\n",
       "       [0., 0., 0., 0.],\n",
       "       [0., 0., 0., 0.],\n",
       "       [0., 0., 0., 0.],\n",
       "       [0., 0., 0., 0.],\n",
       "       [0., 0., 0., 0.],\n",
       "       [0., 0., 0., 0.],\n",
       "       [0., 0., 0., 0.],\n",
       "       [0., 0., 0., 0.],\n",
       "       [0., 0., 0., 0.],\n",
       "       [0., 0., 0., 0.]])"
      ]
     },
     "execution_count": 7,
     "metadata": {},
     "output_type": "execute_result"
    }
   ],
   "source": [
    "# Example 8-2: Q러닝 구현\n",
    "#import gym\n",
    "import numpy as np\n",
    "import gym\n",
    "\n",
    "from gym.envs.registration import register\n",
    "register(\n",
    "    id='FrozenLake-v3',\n",
    "    entry_point='gym.envs.toy_text:FrozenLakeEnv',\n",
    "    kwargs={\n",
    "        'map_name': '4x4',\n",
    "        'is_slippery': False\n",
    "    }\n",
    ")\n",
    "\n",
    "env = gym.make(\"FrozenLake-v3\")\n",
    "#env = gym.make('FrozenLake-v0')\n",
    "q_func = np.zeros((16,4))\n",
    "q_func ## (no. of environment)x(no. of action)"
   ]
  },
  {
   "cell_type": "code",
   "execution_count": 8,
   "metadata": {},
   "outputs": [
    {
     "name": "stdout",
     "output_type": "stream",
     "text": [
      "Total reward: 0.0\n",
      "Average reward: 0.0\n"
     ]
    }
   ],
   "source": [
    "n_episode = 10000\n",
    "dr = 0.9  ## discount rate\n",
    "er = 0.1  ## exploration & exploitation rate\n",
    "\n",
    "total_reward = 0.0\n",
    "for i_episode in range(n_episode):\n",
    "    observation = env.reset()\n",
    "    episode_reward = 0.0\n",
    "    done = None\n",
    "    while not done:\n",
    "    ####for t in range(100):\n",
    "        current_state = observation\n",
    "        if np.random.rand() < er:\n",
    "            action = env.action_space.sample()\n",
    "        else:\n",
    "            ## take action maximizing q-function\n",
    "            action = np.argmax(q_func[current_state,:]) \n",
    "        \n",
    "        observation, reward, done, info = env.step(action)\n",
    "        q_func[current_state, action] = reward + dr*np.max(q_func[observation,:])\n",
    "                                              \n",
    "        #q_func[current_state, action] += 0.3*(reward\n",
    "        #                                      + 0.99*np.max(q_func[observation,:])\n",
    "        #                                      - q_func[current_state,action])\n",
    "    ####    if done:\n",
    "    ####        episode_reward += reward\n",
    "        episode_reward += reward\n",
    "    \n",
    "    total_reward += episode_reward\n",
    "\n",
    "\n",
    "print(\"Total reward:\", total_reward)\n",
    "print(\"Average reward:\", total_reward/n_episode)"
   ]
  },
  {
   "cell_type": "code",
   "execution_count": 9,
   "metadata": {},
   "outputs": [
    {
     "data": {
      "text/plain": [
       "array([[0., 0., 0., 0.],\n",
       "       [0., 0., 0., 0.],\n",
       "       [0., 0., 0., 0.],\n",
       "       [0., 0., 0., 0.],\n",
       "       [0., 0., 0., 0.],\n",
       "       [0., 0., 0., 0.],\n",
       "       [0., 0., 0., 0.],\n",
       "       [0., 0., 0., 0.],\n",
       "       [0., 0., 0., 0.],\n",
       "       [0., 0., 0., 0.],\n",
       "       [0., 0., 0., 0.],\n",
       "       [0., 0., 0., 0.],\n",
       "       [0., 0., 0., 0.],\n",
       "       [0., 0., 0., 0.],\n",
       "       [0., 0., 0., 0.],\n",
       "       [0., 0., 0., 0.]])"
      ]
     },
     "execution_count": 9,
     "metadata": {},
     "output_type": "execute_result"
    }
   ],
   "source": [
    "q_func"
   ]
  },
  {
   "cell_type": "code",
   "execution_count": null,
   "metadata": {},
   "outputs": [],
   "source": [
    "total_reward = 0.0\n",
    "for i_episode in range(n_episode):\n",
    "    observation = env.reset()\n",
    "    episode_reward = 0.0\n",
    "    done = None\n",
    "    while not done:\n",
    "        current_state = observation    \n",
    "        action = np.argmax(q_func[current_state,:]) \n",
    "        observation, reward, done, info = env.step(action)\n",
    "        episode_reward += reward\n",
    "    total_reward += episode_reward\n",
    "\n",
    "print(\"Total reward:\", total_reward)\n",
    "print(\"Average reward:\", total_reward/n_episode)"
   ]
  },
  {
   "cell_type": "code",
   "execution_count": null,
   "metadata": {},
   "outputs": [],
   "source": []
  }
 ],
 "metadata": {
  "kernelspec": {
   "display_name": "Python [conda env:ptlesson] *",
   "language": "python",
   "name": "conda-env-ptlesson-py"
  },
  "language_info": {
   "codemirror_mode": {
    "name": "ipython",
    "version": 3
   },
   "file_extension": ".py",
   "mimetype": "text/x-python",
   "name": "python",
   "nbconvert_exporter": "python",
   "pygments_lexer": "ipython3",
   "version": "3.7.4"
  }
 },
 "nbformat": 4,
 "nbformat_minor": 4
}
